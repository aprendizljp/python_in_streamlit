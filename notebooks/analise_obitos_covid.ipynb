{
 "metadata": {
  "language_info": {
   "codemirror_mode": {
    "name": "ipython",
    "version": 3
   },
   "file_extension": ".py",
   "mimetype": "text/x-python",
   "name": "python",
   "nbconvert_exporter": "python",
   "pygments_lexer": "ipython3",
   "version": "3.8.5-final"
  },
  "orig_nbformat": 2,
  "kernelspec": {
   "name": "python38564bitjupyterinstreamlitcondae54829fdd8b846368ac49f3f2496060e",
   "display_name": "Python 3.8.5 64-bit ('jupyter_in_streamlit': conda)",
   "language": "python"
  }
 },
 "nbformat": 4,
 "nbformat_minor": 2,
 "cells": [
  {
   "cell_type": "code",
   "execution_count": 62,
   "metadata": {},
   "outputs": [],
   "source": [
    "# Importing required libs\n",
    "import pandas as pd\n",
    "import matplotlib.pyplot as plt\n",
    "import seaborn as sns\n",
    "\n",
    "# Defining file paths\n",
    "caminho_2019 = \"../data/obitos-2019.csv\"\n",
    "caminho_2020 = \"../data/obitos-2020.csv\"\n",
    "caminho_2021 = \"../data/obitos-2021.csv\"\n",
    "\n",
    "# Reading data from files\n",
    "dados_2019 = pd.read_csv(caminho_2019)\n",
    "dados_2020 = pd.read_csv(caminho_2020)\n",
    "dados_2021 = pd.read_csv(caminho_2021)"
   ]
  },
  {
   "cell_type": "code",
   "execution_count": 63,
   "metadata": {},
   "outputs": [
    {
     "output_type": "stream",
     "name": "stdout",
     "text": [
      "2019 (12453, 6)\n2020 (15033, 6)\n2021 (10090, 6)\n\n\n<class 'pandas.core.frame.DataFrame'>\nRangeIndex: 12453 entries, 0 to 12452\nData columns (total 6 columns):\n #   Column        Non-Null Count  Dtype \n---  ------        --------------  ----- \n 0   uf            12453 non-null  object\n 1   tipo_doenca   12453 non-null  object\n 2   local_obito   12453 non-null  object\n 3   faixa_etaria  12453 non-null  object\n 4   sexo          12449 non-null  object\n 5   total         12453 non-null  int64 \ndtypes: int64(1), object(5)\nmemory usage: 583.9+ KB\nNone\n\n\n<class 'pandas.core.frame.DataFrame'>\nRangeIndex: 15033 entries, 0 to 15032\nData columns (total 6 columns):\n #   Column        Non-Null Count  Dtype \n---  ------        --------------  ----- \n 0   uf            15033 non-null  object\n 1   tipo_doenca   15033 non-null  object\n 2   local_obito   15033 non-null  object\n 3   faixa_etaria  15033 non-null  object\n 4   sexo          15032 non-null  object\n 5   total         15033 non-null  int64 \ndtypes: int64(1), object(5)\nmemory usage: 704.8+ KB\nNone\n\n\n<class 'pandas.core.frame.DataFrame'>\nRangeIndex: 10090 entries, 0 to 10089\nData columns (total 6 columns):\n #   Column        Non-Null Count  Dtype \n---  ------        --------------  ----- \n 0   uf            10090 non-null  object\n 1   tipo_doenca   10090 non-null  object\n 2   local_obito   10090 non-null  object\n 3   faixa_etaria  10090 non-null  object\n 4   sexo          10090 non-null  object\n 5   total         10090 non-null  int64 \ndtypes: int64(1), object(5)\nmemory usage: 473.1+ KB\nNone\n"
     ]
    }
   ],
   "source": [
    "# Investigating the imported data\n",
    "print(f'2019 {dados_2019.shape}')\n",
    "print(f'2020 {dados_2020.shape}')\n",
    "print(f'2021 {dados_2021.shape}')\n",
    "\n",
    "print('\\n')\n",
    "print(dados_2019.info())\n",
    "print('\\n')\n",
    "print(dados_2020.info())\n",
    "print('\\n')\n",
    "print(dados_2021.info())"
   ]
  },
  {
   "cell_type": "code",
   "execution_count": 64,
   "metadata": {},
   "outputs": [
    {
     "output_type": "stream",
     "name": "stdout",
     "text": [
      "\n2019:\n"
     ]
    },
    {
     "output_type": "display_data",
     "data": {
      "text/plain": "      uf    tipo_doenca  local_obito faixa_etaria sexo  total\n154   BA      PNEUMONIA  VIA_PUBLICA          < 9    F      2\n5225  PE  INDETERMINADA     HOSPITAL      50 - 59    M      6\n6199  MG         OUTRAS  VIA_PUBLICA      60 - 69    M    177\n6638  RJ     SEPTICEMIA        OUTRO      60 - 69    M      2\n3641  CE         OUTRAS     HOSPITAL      40 - 49    M    465",
      "text/html": "<div>\n<style scoped>\n    .dataframe tbody tr th:only-of-type {\n        vertical-align: middle;\n    }\n\n    .dataframe tbody tr th {\n        vertical-align: top;\n    }\n\n    .dataframe thead th {\n        text-align: right;\n    }\n</style>\n<table border=\"1\" class=\"dataframe\">\n  <thead>\n    <tr style=\"text-align: right;\">\n      <th></th>\n      <th>uf</th>\n      <th>tipo_doenca</th>\n      <th>local_obito</th>\n      <th>faixa_etaria</th>\n      <th>sexo</th>\n      <th>total</th>\n    </tr>\n  </thead>\n  <tbody>\n    <tr>\n      <th>154</th>\n      <td>BA</td>\n      <td>PNEUMONIA</td>\n      <td>VIA_PUBLICA</td>\n      <td>&lt; 9</td>\n      <td>F</td>\n      <td>2</td>\n    </tr>\n    <tr>\n      <th>5225</th>\n      <td>PE</td>\n      <td>INDETERMINADA</td>\n      <td>HOSPITAL</td>\n      <td>50 - 59</td>\n      <td>M</td>\n      <td>6</td>\n    </tr>\n    <tr>\n      <th>6199</th>\n      <td>MG</td>\n      <td>OUTRAS</td>\n      <td>VIA_PUBLICA</td>\n      <td>60 - 69</td>\n      <td>M</td>\n      <td>177</td>\n    </tr>\n    <tr>\n      <th>6638</th>\n      <td>RJ</td>\n      <td>SEPTICEMIA</td>\n      <td>OUTRO</td>\n      <td>60 - 69</td>\n      <td>M</td>\n      <td>2</td>\n    </tr>\n    <tr>\n      <th>3641</th>\n      <td>CE</td>\n      <td>OUTRAS</td>\n      <td>HOSPITAL</td>\n      <td>40 - 49</td>\n      <td>M</td>\n      <td>465</td>\n    </tr>\n  </tbody>\n</table>\n</div>"
     },
     "metadata": {}
    },
    {
     "output_type": "stream",
     "name": "stdout",
     "text": [
      "ufs: 27\ntipo_doenca:\n ['OUTRAS' 'INDETERMINADA' 'INSUFICIENCIA_RESPIRATORIA' 'PNEUMONIA'\n 'SEPTICEMIA' 'SRAG']\n\n2020:\n"
     ]
    },
    {
     "output_type": "display_data",
     "data": {
      "text/plain": "       uf tipo_doenca            local_obito faixa_etaria sexo  total\n8175   RS       COVID  OUTROS_SERVICOS_SAUDE      60 - 69    M     31\n6036   MT  SEPTICEMIA               HOSPITAL      50 - 59    M     44\n1941   CE      OUTRAS  OUTROS_SERVICOS_SAUDE      20 - 29    F      9\n11859  AC       COVID              DOMICILIO      90 - 99    F      1\n7705   PB      OUTRAS            VIA_PUBLICA      60 - 69    M     29",
      "text/html": "<div>\n<style scoped>\n    .dataframe tbody tr th:only-of-type {\n        vertical-align: middle;\n    }\n\n    .dataframe tbody tr th {\n        vertical-align: top;\n    }\n\n    .dataframe thead th {\n        text-align: right;\n    }\n</style>\n<table border=\"1\" class=\"dataframe\">\n  <thead>\n    <tr style=\"text-align: right;\">\n      <th></th>\n      <th>uf</th>\n      <th>tipo_doenca</th>\n      <th>local_obito</th>\n      <th>faixa_etaria</th>\n      <th>sexo</th>\n      <th>total</th>\n    </tr>\n  </thead>\n  <tbody>\n    <tr>\n      <th>8175</th>\n      <td>RS</td>\n      <td>COVID</td>\n      <td>OUTROS_SERVICOS_SAUDE</td>\n      <td>60 - 69</td>\n      <td>M</td>\n      <td>31</td>\n    </tr>\n    <tr>\n      <th>6036</th>\n      <td>MT</td>\n      <td>SEPTICEMIA</td>\n      <td>HOSPITAL</td>\n      <td>50 - 59</td>\n      <td>M</td>\n      <td>44</td>\n    </tr>\n    <tr>\n      <th>1941</th>\n      <td>CE</td>\n      <td>OUTRAS</td>\n      <td>OUTROS_SERVICOS_SAUDE</td>\n      <td>20 - 29</td>\n      <td>F</td>\n      <td>9</td>\n    </tr>\n    <tr>\n      <th>11859</th>\n      <td>AC</td>\n      <td>COVID</td>\n      <td>DOMICILIO</td>\n      <td>90 - 99</td>\n      <td>F</td>\n      <td>1</td>\n    </tr>\n    <tr>\n      <th>7705</th>\n      <td>PB</td>\n      <td>OUTRAS</td>\n      <td>VIA_PUBLICA</td>\n      <td>60 - 69</td>\n      <td>M</td>\n      <td>29</td>\n    </tr>\n  </tbody>\n</table>\n</div>"
     },
     "metadata": {}
    },
    {
     "output_type": "stream",
     "name": "stdout",
     "text": [
      "ufs: 27\ntipo_doenca:\n ['OUTRAS' 'COVID' 'INDETERMINADA' 'INSUFICIENCIA_RESPIRATORIA' 'PNEUMONIA'\n 'SEPTICEMIA' 'SRAG']\n\n2021:\n"
     ]
    },
    {
     "output_type": "display_data",
     "data": {
      "text/plain": "      uf                 tipo_doenca            local_obito faixa_etaria sexo  \\\n8072  SE                      OUTRAS            VIA_PUBLICA      80 - 89    M   \n562   SP                   PNEUMONIA  OUTROS_SERVICOS_SAUDE          < 9    M   \n5398  RN                      OUTRAS                  OUTRO      60 - 69    F   \n4734  CE                   PNEUMONIA               HOSPITAL      60 - 69    F   \n8626  MS  INSUFICIENCIA_RESPIRATORIA               HOSPITAL      90 - 99    F   \n\n      total  \n8072      1  \n562       1  \n5398      3  \n4734     58  \n8626      7  ",
      "text/html": "<div>\n<style scoped>\n    .dataframe tbody tr th:only-of-type {\n        vertical-align: middle;\n    }\n\n    .dataframe tbody tr th {\n        vertical-align: top;\n    }\n\n    .dataframe thead th {\n        text-align: right;\n    }\n</style>\n<table border=\"1\" class=\"dataframe\">\n  <thead>\n    <tr style=\"text-align: right;\">\n      <th></th>\n      <th>uf</th>\n      <th>tipo_doenca</th>\n      <th>local_obito</th>\n      <th>faixa_etaria</th>\n      <th>sexo</th>\n      <th>total</th>\n    </tr>\n  </thead>\n  <tbody>\n    <tr>\n      <th>8072</th>\n      <td>SE</td>\n      <td>OUTRAS</td>\n      <td>VIA_PUBLICA</td>\n      <td>80 - 89</td>\n      <td>M</td>\n      <td>1</td>\n    </tr>\n    <tr>\n      <th>562</th>\n      <td>SP</td>\n      <td>PNEUMONIA</td>\n      <td>OUTROS_SERVICOS_SAUDE</td>\n      <td>&lt; 9</td>\n      <td>M</td>\n      <td>1</td>\n    </tr>\n    <tr>\n      <th>5398</th>\n      <td>RN</td>\n      <td>OUTRAS</td>\n      <td>OUTRO</td>\n      <td>60 - 69</td>\n      <td>F</td>\n      <td>3</td>\n    </tr>\n    <tr>\n      <th>4734</th>\n      <td>CE</td>\n      <td>PNEUMONIA</td>\n      <td>HOSPITAL</td>\n      <td>60 - 69</td>\n      <td>F</td>\n      <td>58</td>\n    </tr>\n    <tr>\n      <th>8626</th>\n      <td>MS</td>\n      <td>INSUFICIENCIA_RESPIRATORIA</td>\n      <td>HOSPITAL</td>\n      <td>90 - 99</td>\n      <td>F</td>\n      <td>7</td>\n    </tr>\n  </tbody>\n</table>\n</div>"
     },
     "metadata": {}
    },
    {
     "output_type": "stream",
     "name": "stdout",
     "text": [
      "ufs: 27\ntipo_doenca:\n ['OUTRAS' 'COVID' 'INDETERMINADA' 'INSUFICIENCIA_RESPIRATORIA' 'PNEUMONIA'\n 'SEPTICEMIA' 'SRAG']\n"
     ]
    }
   ],
   "source": [
    "print('\\n2019:')\n",
    "display(dados_2019.sample(5))\n",
    "print(f'ufs: {len(dados_2019[\"uf\"].unique())}')\n",
    "print(f'tipo_doenca:\\n {dados_2019[\"tipo_doenca\"].unique()}')\n",
    "\n",
    "print('\\n2020:')\n",
    "display(dados_2020.sample(5))\n",
    "print(f'ufs: {len(dados_2020[\"uf\"].unique())}')\n",
    "print(f'tipo_doenca:\\n {dados_2020[\"tipo_doenca\"].unique()}')\n",
    "\n",
    "print('\\n2021:')\n",
    "display(dados_2021.sample(5))\n",
    "print(f'ufs: {len(dados_2021[\"uf\"].unique())}')\n",
    "print(f'tipo_doenca:\\n {dados_2021[\"tipo_doenca\"].unique()}')"
   ]
  },
  {
   "cell_type": "code",
   "execution_count": 65,
   "metadata": {
    "tags": []
   },
   "outputs": [
    {
     "output_type": "stream",
     "name": "stdout",
     "text": [
      "\n2019\ntipo_doenca\nINDETERMINADA                   7029\nINSUFICIENCIA_RESPIRATORIA    101131\nOUTRAS                        664026\nPNEUMONIA                     227051\nSEPTICEMIA                    176179\nSRAG                            1505\nName: total, dtype: int64\n\n2020\ntipo_doenca\nCOVID                         197407\nINDETERMINADA                   9807\nINSUFICIENCIA_RESPIRATORIA     99865\nOUTRAS                        697457\nPNEUMONIA                     183394\nSEPTICEMIA                    164049\nSRAG                           16695\nName: total, dtype: int64\n\n2021\ntipo_doenca\nCOVID                         102815\nINDETERMINADA                   2248\nINSUFICIENCIA_RESPIRATORIA     19643\nOUTRAS                        145322\nPNEUMONIA                      35793\nSEPTICEMIA                     34942\nSRAG                            3481\nName: total, dtype: int64\n"
     ]
    }
   ],
   "source": [
    "deaths_by_type_2019 = dados_2019.groupby('tipo_doenca')['total'].sum()\n",
    "\n",
    "print('\\n2019')\n",
    "print(deaths_by_type_2019)\n",
    "\n",
    "deaths_by_type_2020 = dados_2020.groupby('tipo_doenca')['total'].sum()\n",
    "print('\\n2020')\n",
    "print(deaths_by_type_2020)\n",
    "\n",
    "deaths_by_type_2021 = dados_2021.groupby('tipo_doenca')['total'].sum()\n",
    "print('\\n2021')\n",
    "print(deaths_by_type_2021)"
   ]
  },
  {
   "cell_type": "code",
   "execution_count": 66,
   "metadata": {},
   "outputs": [
    {
     "output_type": "execute_result",
     "data": {
      "text/plain": [
       "tipo_doenca\n",
       "COVID                               NaN\n",
       "INDETERMINADA                  1.395220\n",
       "INSUFICIENCIA_RESPIRATORIA     0.987482\n",
       "OUTRAS                         1.050346\n",
       "PNEUMONIA                      0.807722\n",
       "SEPTICEMIA                     0.931150\n",
       "SRAG                          11.093023\n",
       "Name: total, dtype: float64"
      ]
     },
     "metadata": {},
     "execution_count": 66
    }
   ],
   "source": [
    "proportion_20_19 = deaths_by_type_2020 / deaths_by_type_2019\n",
    "proportion_20_19"
   ]
  },
  {
   "cell_type": "code",
   "execution_count": 67,
   "metadata": {},
   "outputs": [
    {
     "output_type": "execute_result",
     "data": {
      "text/plain": [
       "tipo_doenca\n",
       "COVID                         0.121289\n",
       "INDETERMINADA                 0.053381\n",
       "INSUFICIENCIA_RESPIRATORIA    0.045806\n",
       "OUTRAS                        0.048522\n",
       "PNEUMONIA                     0.045451\n",
       "SEPTICEMIA                    0.049602\n",
       "SRAG                          0.048556\n",
       "Name: total, dtype: float64"
      ]
     },
     "metadata": {},
     "execution_count": 67
    }
   ],
   "source": [
    "proportion_21_20 = deaths_by_type_2021 * 85 / (deaths_by_type_2020 * 365)\n",
    "proportion_21_20"
   ]
  },
  {
   "cell_type": "code",
   "execution_count": 73,
   "metadata": {},
   "outputs": [],
   "source": [
    "def comparison_chart(causa_mortis):\n",
    "\n",
    "    deaths_by_type_2019 = dados_2019.groupby('tipo_doenca')['total'].sum()\n",
    "    deaths_by_type_2019['COVID'] = 0\n",
    "    deaths_by_type_2020 = dados_2020.groupby('tipo_doenca')['total'].sum()\n",
    "    deaths_by_type_2021 = dados_2021.groupby('tipo_doenca')['total'].sum()\n",
    "\n",
    "    selection_by_causa_mortis = [int(deaths_by_type_2019.loc[causa_mortis]),\n",
    "        int(deaths_by_type_2020.loc[causa_mortis]),\n",
    "        int(deaths_by_type_2021.loc[causa_mortis])\n",
    "    ]\n",
    "    death_df = pd.DataFrame({'Total': selection_by_causa_mortis,\n",
    "        'Year': [2019, 2020, 2021]})\n",
    "\n",
    "    plt.figure(figsize=(10,8))\n",
    "    sns.barplot(x='Year', y='Total', data=death_df)   \n",
    "    plt.title(f'Óbitos por {causa_mortis}')\n",
    "    plt.show()     \n",
    "    \n",
    "    return death_df"
   ]
  },
  {
   "cell_type": "code",
   "execution_count": 74,
   "metadata": {},
   "outputs": [
    {
     "output_type": "display_data",
     "data": {
      "text/plain": "<Figure size 720x576 with 1 Axes>",
      "image/svg+xml": "<?xml version=\"1.0\" encoding=\"utf-8\" standalone=\"no\"?>\n<!DOCTYPE svg PUBLIC \"-//W3C//DTD SVG 1.1//EN\"\n  \"http://www.w3.org/Graphics/SVG/1.1/DTD/svg11.dtd\">\n<svg height=\"496.738125pt\" version=\"1.1\" viewBox=\"0 0 631.253125 496.738125\" width=\"631.253125pt\" xmlns=\"http://www.w3.org/2000/svg\" xmlns:xlink=\"http://www.w3.org/1999/xlink\">\n <metadata>\n  <rdf:RDF xmlns:cc=\"http://creativecommons.org/ns#\" xmlns:dc=\"http://purl.org/dc/elements/1.1/\" xmlns:rdf=\"http://www.w3.org/1999/02/22-rdf-syntax-ns#\">\n   <cc:Work>\n    <dc:type rdf:resource=\"http://purl.org/dc/dcmitype/StillImage\"/>\n    <dc:date>2021-03-26T19:43:32.357059</dc:date>\n    <dc:format>image/svg+xml</dc:format>\n    <dc:creator>\n     <cc:Agent>\n      <dc:title>Matplotlib v3.4.0, https://matplotlib.org/</dc:title>\n     </cc:Agent>\n    </dc:creator>\n   </cc:Work>\n  </rdf:RDF>\n </metadata>\n <defs>\n  <style type=\"text/css\">*{stroke-linecap:butt;stroke-linejoin:round;}</style>\n </defs>\n <g id=\"figure_1\">\n  <g id=\"patch_1\">\n   <path d=\"M 0 496.738125 \nL 631.253125 496.738125 \nL 631.253125 0 \nL 0 0 \nz\n\" style=\"fill:none;\"/>\n  </g>\n  <g id=\"axes_1\">\n   <g id=\"patch_2\">\n    <path d=\"M 66.053125 459.181875 \nL 624.053125 459.181875 \nL 624.053125 24.301875 \nL 66.053125 24.301875 \nz\n\" style=\"fill:#ffffff;\"/>\n   </g>\n   <g id=\"patch_3\">\n    <path clip-path=\"url(#p272449de50)\" d=\"M 84.653125 459.181875 \nL 233.453125 459.181875 \nL 233.453125 45.010446 \nL 84.653125 45.010446 \nz\n\" style=\"fill:#3274a1;\"/>\n   </g>\n   <g id=\"patch_4\">\n    <path clip-path=\"url(#p272449de50)\" d=\"M 270.653125 459.181875 \nL 419.453125 459.181875 \nL 419.453125 124.646661 \nL 270.653125 124.646661 \nz\n\" style=\"fill:#e1812c;\"/>\n   </g>\n   <g id=\"patch_5\">\n    <path clip-path=\"url(#p272449de50)\" d=\"M 456.653125 459.181875 \nL 605.453125 459.181875 \nL 605.453125 393.89065 \nL 456.653125 393.89065 \nz\n\" style=\"fill:#3a923a;\"/>\n   </g>\n   <g id=\"matplotlib.axis_1\">\n    <g id=\"xtick_1\">\n     <g id=\"line2d_1\">\n      <defs>\n       <path d=\"M 0 0 \nL 0 3.5 \n\" id=\"m7780afd242\" style=\"stroke:#000000;stroke-width:0.8;\"/>\n      </defs>\n      <g>\n       <use style=\"stroke:#000000;stroke-width:0.8;\" x=\"159.053125\" xlink:href=\"#m7780afd242\" y=\"459.181875\"/>\n      </g>\n     </g>\n     <g id=\"text_1\">\n      <!-- 2019 -->\n      <g transform=\"translate(146.328125 473.780312)scale(0.1 -0.1)\">\n       <defs>\n        <path d=\"M 1228 531 \nL 3431 531 \nL 3431 0 \nL 469 0 \nL 469 531 \nQ 828 903 1448 1529 \nQ 2069 2156 2228 2338 \nQ 2531 2678 2651 2914 \nQ 2772 3150 2772 3378 \nQ 2772 3750 2511 3984 \nQ 2250 4219 1831 4219 \nQ 1534 4219 1204 4116 \nQ 875 4013 500 3803 \nL 500 4441 \nQ 881 4594 1212 4672 \nQ 1544 4750 1819 4750 \nQ 2544 4750 2975 4387 \nQ 3406 4025 3406 3419 \nQ 3406 3131 3298 2873 \nQ 3191 2616 2906 2266 \nQ 2828 2175 2409 1742 \nQ 1991 1309 1228 531 \nz\n\" id=\"DejaVuSans-32\" transform=\"scale(0.015625)\"/>\n        <path d=\"M 2034 4250 \nQ 1547 4250 1301 3770 \nQ 1056 3291 1056 2328 \nQ 1056 1369 1301 889 \nQ 1547 409 2034 409 \nQ 2525 409 2770 889 \nQ 3016 1369 3016 2328 \nQ 3016 3291 2770 3770 \nQ 2525 4250 2034 4250 \nz\nM 2034 4750 \nQ 2819 4750 3233 4129 \nQ 3647 3509 3647 2328 \nQ 3647 1150 3233 529 \nQ 2819 -91 2034 -91 \nQ 1250 -91 836 529 \nQ 422 1150 422 2328 \nQ 422 3509 836 4129 \nQ 1250 4750 2034 4750 \nz\n\" id=\"DejaVuSans-30\" transform=\"scale(0.015625)\"/>\n        <path d=\"M 794 531 \nL 1825 531 \nL 1825 4091 \nL 703 3866 \nL 703 4441 \nL 1819 4666 \nL 2450 4666 \nL 2450 531 \nL 3481 531 \nL 3481 0 \nL 794 0 \nL 794 531 \nz\n\" id=\"DejaVuSans-31\" transform=\"scale(0.015625)\"/>\n        <path d=\"M 703 97 \nL 703 672 \nQ 941 559 1184 500 \nQ 1428 441 1663 441 \nQ 2288 441 2617 861 \nQ 2947 1281 2994 2138 \nQ 2813 1869 2534 1725 \nQ 2256 1581 1919 1581 \nQ 1219 1581 811 2004 \nQ 403 2428 403 3163 \nQ 403 3881 828 4315 \nQ 1253 4750 1959 4750 \nQ 2769 4750 3195 4129 \nQ 3622 3509 3622 2328 \nQ 3622 1225 3098 567 \nQ 2575 -91 1691 -91 \nQ 1453 -91 1209 -44 \nQ 966 3 703 97 \nz\nM 1959 2075 \nQ 2384 2075 2632 2365 \nQ 2881 2656 2881 3163 \nQ 2881 3666 2632 3958 \nQ 2384 4250 1959 4250 \nQ 1534 4250 1286 3958 \nQ 1038 3666 1038 3163 \nQ 1038 2656 1286 2365 \nQ 1534 2075 1959 2075 \nz\n\" id=\"DejaVuSans-39\" transform=\"scale(0.015625)\"/>\n       </defs>\n       <use xlink:href=\"#DejaVuSans-32\"/>\n       <use x=\"63.623047\" xlink:href=\"#DejaVuSans-30\"/>\n       <use x=\"127.246094\" xlink:href=\"#DejaVuSans-31\"/>\n       <use x=\"190.869141\" xlink:href=\"#DejaVuSans-39\"/>\n      </g>\n     </g>\n    </g>\n    <g id=\"xtick_2\">\n     <g id=\"line2d_2\">\n      <g>\n       <use style=\"stroke:#000000;stroke-width:0.8;\" x=\"345.053125\" xlink:href=\"#m7780afd242\" y=\"459.181875\"/>\n      </g>\n     </g>\n     <g id=\"text_2\">\n      <!-- 2020 -->\n      <g transform=\"translate(332.328125 473.780312)scale(0.1 -0.1)\">\n       <use xlink:href=\"#DejaVuSans-32\"/>\n       <use x=\"63.623047\" xlink:href=\"#DejaVuSans-30\"/>\n       <use x=\"127.246094\" xlink:href=\"#DejaVuSans-32\"/>\n       <use x=\"190.869141\" xlink:href=\"#DejaVuSans-30\"/>\n      </g>\n     </g>\n    </g>\n    <g id=\"xtick_3\">\n     <g id=\"line2d_3\">\n      <g>\n       <use style=\"stroke:#000000;stroke-width:0.8;\" x=\"531.053125\" xlink:href=\"#m7780afd242\" y=\"459.181875\"/>\n      </g>\n     </g>\n     <g id=\"text_3\">\n      <!-- 2021 -->\n      <g transform=\"translate(518.328125 473.780312)scale(0.1 -0.1)\">\n       <use xlink:href=\"#DejaVuSans-32\"/>\n       <use x=\"63.623047\" xlink:href=\"#DejaVuSans-30\"/>\n       <use x=\"127.246094\" xlink:href=\"#DejaVuSans-32\"/>\n       <use x=\"190.869141\" xlink:href=\"#DejaVuSans-31\"/>\n      </g>\n     </g>\n    </g>\n    <g id=\"text_4\">\n     <!-- Year -->\n     <g transform=\"translate(334.465625 487.458437)scale(0.1 -0.1)\">\n      <defs>\n       <path d=\"M -13 4666 \nL 666 4666 \nL 1959 2747 \nL 3244 4666 \nL 3922 4666 \nL 2272 2222 \nL 2272 0 \nL 1638 0 \nL 1638 2222 \nL -13 4666 \nz\n\" id=\"DejaVuSans-59\" transform=\"scale(0.015625)\"/>\n       <path d=\"M 3597 1894 \nL 3597 1613 \nL 953 1613 \nQ 991 1019 1311 708 \nQ 1631 397 2203 397 \nQ 2534 397 2845 478 \nQ 3156 559 3463 722 \nL 3463 178 \nQ 3153 47 2828 -22 \nQ 2503 -91 2169 -91 \nQ 1331 -91 842 396 \nQ 353 884 353 1716 \nQ 353 2575 817 3079 \nQ 1281 3584 2069 3584 \nQ 2775 3584 3186 3129 \nQ 3597 2675 3597 1894 \nz\nM 3022 2063 \nQ 3016 2534 2758 2815 \nQ 2500 3097 2075 3097 \nQ 1594 3097 1305 2825 \nQ 1016 2553 972 2059 \nL 3022 2063 \nz\n\" id=\"DejaVuSans-65\" transform=\"scale(0.015625)\"/>\n       <path d=\"M 2194 1759 \nQ 1497 1759 1228 1600 \nQ 959 1441 959 1056 \nQ 959 750 1161 570 \nQ 1363 391 1709 391 \nQ 2188 391 2477 730 \nQ 2766 1069 2766 1631 \nL 2766 1759 \nL 2194 1759 \nz\nM 3341 1997 \nL 3341 0 \nL 2766 0 \nL 2766 531 \nQ 2569 213 2275 61 \nQ 1981 -91 1556 -91 \nQ 1019 -91 701 211 \nQ 384 513 384 1019 \nQ 384 1609 779 1909 \nQ 1175 2209 1959 2209 \nL 2766 2209 \nL 2766 2266 \nQ 2766 2663 2505 2880 \nQ 2244 3097 1772 3097 \nQ 1472 3097 1187 3025 \nQ 903 2953 641 2809 \nL 641 3341 \nQ 956 3463 1253 3523 \nQ 1550 3584 1831 3584 \nQ 2591 3584 2966 3190 \nQ 3341 2797 3341 1997 \nz\n\" id=\"DejaVuSans-61\" transform=\"scale(0.015625)\"/>\n       <path d=\"M 2631 2963 \nQ 2534 3019 2420 3045 \nQ 2306 3072 2169 3072 \nQ 1681 3072 1420 2755 \nQ 1159 2438 1159 1844 \nL 1159 0 \nL 581 0 \nL 581 3500 \nL 1159 3500 \nL 1159 2956 \nQ 1341 3275 1631 3429 \nQ 1922 3584 2338 3584 \nQ 2397 3584 2469 3576 \nQ 2541 3569 2628 3553 \nL 2631 2963 \nz\n\" id=\"DejaVuSans-72\" transform=\"scale(0.015625)\"/>\n      </defs>\n      <use xlink:href=\"#DejaVuSans-59\"/>\n      <use x=\"47.833984\" xlink:href=\"#DejaVuSans-65\"/>\n      <use x=\"109.357422\" xlink:href=\"#DejaVuSans-61\"/>\n      <use x=\"170.636719\" xlink:href=\"#DejaVuSans-72\"/>\n     </g>\n    </g>\n   </g>\n   <g id=\"matplotlib.axis_2\">\n    <g id=\"ytick_1\">\n     <g id=\"line2d_4\">\n      <defs>\n       <path d=\"M 0 0 \nL -3.5 0 \n\" id=\"mdde7084021\" style=\"stroke:#000000;stroke-width:0.8;\"/>\n      </defs>\n      <g>\n       <use style=\"stroke:#000000;stroke-width:0.8;\" x=\"66.053125\" xlink:href=\"#mdde7084021\" y=\"459.181875\"/>\n      </g>\n     </g>\n     <g id=\"text_5\">\n      <!-- 0 -->\n      <g transform=\"translate(52.690625 462.981094)scale(0.1 -0.1)\">\n       <use xlink:href=\"#DejaVuSans-30\"/>\n      </g>\n     </g>\n    </g>\n    <g id=\"ytick_2\">\n     <g id=\"line2d_5\">\n      <g>\n       <use style=\"stroke:#000000;stroke-width:0.8;\" x=\"66.053125\" xlink:href=\"#mdde7084021\" y=\"367.975179\"/>\n      </g>\n     </g>\n     <g id=\"text_6\">\n      <!-- 50000 -->\n      <g transform=\"translate(27.240625 371.774398)scale(0.1 -0.1)\">\n       <defs>\n        <path d=\"M 691 4666 \nL 3169 4666 \nL 3169 4134 \nL 1269 4134 \nL 1269 2991 \nQ 1406 3038 1543 3061 \nQ 1681 3084 1819 3084 \nQ 2600 3084 3056 2656 \nQ 3513 2228 3513 1497 \nQ 3513 744 3044 326 \nQ 2575 -91 1722 -91 \nQ 1428 -91 1123 -41 \nQ 819 9 494 109 \nL 494 744 \nQ 775 591 1075 516 \nQ 1375 441 1709 441 \nQ 2250 441 2565 725 \nQ 2881 1009 2881 1497 \nQ 2881 1984 2565 2268 \nQ 2250 2553 1709 2553 \nQ 1456 2553 1204 2497 \nQ 953 2441 691 2322 \nL 691 4666 \nz\n\" id=\"DejaVuSans-35\" transform=\"scale(0.015625)\"/>\n       </defs>\n       <use xlink:href=\"#DejaVuSans-35\"/>\n       <use x=\"63.623047\" xlink:href=\"#DejaVuSans-30\"/>\n       <use x=\"127.246094\" xlink:href=\"#DejaVuSans-30\"/>\n       <use x=\"190.869141\" xlink:href=\"#DejaVuSans-30\"/>\n       <use x=\"254.492188\" xlink:href=\"#DejaVuSans-30\"/>\n      </g>\n     </g>\n    </g>\n    <g id=\"ytick_3\">\n     <g id=\"line2d_6\">\n      <g>\n       <use style=\"stroke:#000000;stroke-width:0.8;\" x=\"66.053125\" xlink:href=\"#mdde7084021\" y=\"276.768484\"/>\n      </g>\n     </g>\n     <g id=\"text_7\">\n      <!-- 100000 -->\n      <g transform=\"translate(20.878125 280.567703)scale(0.1 -0.1)\">\n       <use xlink:href=\"#DejaVuSans-31\"/>\n       <use x=\"63.623047\" xlink:href=\"#DejaVuSans-30\"/>\n       <use x=\"127.246094\" xlink:href=\"#DejaVuSans-30\"/>\n       <use x=\"190.869141\" xlink:href=\"#DejaVuSans-30\"/>\n       <use x=\"254.492188\" xlink:href=\"#DejaVuSans-30\"/>\n       <use x=\"318.115234\" xlink:href=\"#DejaVuSans-30\"/>\n      </g>\n     </g>\n    </g>\n    <g id=\"ytick_4\">\n     <g id=\"line2d_7\">\n      <g>\n       <use style=\"stroke:#000000;stroke-width:0.8;\" x=\"66.053125\" xlink:href=\"#mdde7084021\" y=\"185.561788\"/>\n      </g>\n     </g>\n     <g id=\"text_8\">\n      <!-- 150000 -->\n      <g transform=\"translate(20.878125 189.361007)scale(0.1 -0.1)\">\n       <use xlink:href=\"#DejaVuSans-31\"/>\n       <use x=\"63.623047\" xlink:href=\"#DejaVuSans-35\"/>\n       <use x=\"127.246094\" xlink:href=\"#DejaVuSans-30\"/>\n       <use x=\"190.869141\" xlink:href=\"#DejaVuSans-30\"/>\n       <use x=\"254.492188\" xlink:href=\"#DejaVuSans-30\"/>\n       <use x=\"318.115234\" xlink:href=\"#DejaVuSans-30\"/>\n      </g>\n     </g>\n    </g>\n    <g id=\"ytick_5\">\n     <g id=\"line2d_8\">\n      <g>\n       <use style=\"stroke:#000000;stroke-width:0.8;\" x=\"66.053125\" xlink:href=\"#mdde7084021\" y=\"94.355093\"/>\n      </g>\n     </g>\n     <g id=\"text_9\">\n      <!-- 200000 -->\n      <g transform=\"translate(20.878125 98.154312)scale(0.1 -0.1)\">\n       <use xlink:href=\"#DejaVuSans-32\"/>\n       <use x=\"63.623047\" xlink:href=\"#DejaVuSans-30\"/>\n       <use x=\"127.246094\" xlink:href=\"#DejaVuSans-30\"/>\n       <use x=\"190.869141\" xlink:href=\"#DejaVuSans-30\"/>\n       <use x=\"254.492188\" xlink:href=\"#DejaVuSans-30\"/>\n       <use x=\"318.115234\" xlink:href=\"#DejaVuSans-30\"/>\n      </g>\n     </g>\n    </g>\n    <g id=\"text_10\">\n     <!-- Total -->\n     <g transform=\"translate(14.798438 253.418437)rotate(-90)scale(0.1 -0.1)\">\n      <defs>\n       <path d=\"M -19 4666 \nL 3928 4666 \nL 3928 4134 \nL 2272 4134 \nL 2272 0 \nL 1638 0 \nL 1638 4134 \nL -19 4134 \nL -19 4666 \nz\n\" id=\"DejaVuSans-54\" transform=\"scale(0.015625)\"/>\n       <path d=\"M 1959 3097 \nQ 1497 3097 1228 2736 \nQ 959 2375 959 1747 \nQ 959 1119 1226 758 \nQ 1494 397 1959 397 \nQ 2419 397 2687 759 \nQ 2956 1122 2956 1747 \nQ 2956 2369 2687 2733 \nQ 2419 3097 1959 3097 \nz\nM 1959 3584 \nQ 2709 3584 3137 3096 \nQ 3566 2609 3566 1747 \nQ 3566 888 3137 398 \nQ 2709 -91 1959 -91 \nQ 1206 -91 779 398 \nQ 353 888 353 1747 \nQ 353 2609 779 3096 \nQ 1206 3584 1959 3584 \nz\n\" id=\"DejaVuSans-6f\" transform=\"scale(0.015625)\"/>\n       <path d=\"M 1172 4494 \nL 1172 3500 \nL 2356 3500 \nL 2356 3053 \nL 1172 3053 \nL 1172 1153 \nQ 1172 725 1289 603 \nQ 1406 481 1766 481 \nL 2356 481 \nL 2356 0 \nL 1766 0 \nQ 1100 0 847 248 \nQ 594 497 594 1153 \nL 594 3053 \nL 172 3053 \nL 172 3500 \nL 594 3500 \nL 594 4494 \nL 1172 4494 \nz\n\" id=\"DejaVuSans-74\" transform=\"scale(0.015625)\"/>\n       <path d=\"M 603 4863 \nL 1178 4863 \nL 1178 0 \nL 603 0 \nL 603 4863 \nz\n\" id=\"DejaVuSans-6c\" transform=\"scale(0.015625)\"/>\n      </defs>\n      <use xlink:href=\"#DejaVuSans-54\"/>\n      <use x=\"44.083984\" xlink:href=\"#DejaVuSans-6f\"/>\n      <use x=\"105.265625\" xlink:href=\"#DejaVuSans-74\"/>\n      <use x=\"144.474609\" xlink:href=\"#DejaVuSans-61\"/>\n      <use x=\"205.753906\" xlink:href=\"#DejaVuSans-6c\"/>\n     </g>\n    </g>\n   </g>\n   <g id=\"line2d_9\">\n    <path clip-path=\"url(#p272449de50)\" d=\"M 0 0 \n\" style=\"fill:none;stroke:#424242;stroke-linecap:square;stroke-width:2.7;\"/>\n   </g>\n   <g id=\"line2d_10\">\n    <path clip-path=\"url(#p272449de50)\" d=\"M 0 0 \n\" style=\"fill:none;stroke:#424242;stroke-linecap:square;stroke-width:2.7;\"/>\n   </g>\n   <g id=\"line2d_11\">\n    <path clip-path=\"url(#p272449de50)\" d=\"M 0 0 \n\" style=\"fill:none;stroke:#424242;stroke-linecap:square;stroke-width:2.7;\"/>\n   </g>\n   <g id=\"patch_6\">\n    <path d=\"M 66.053125 459.181875 \nL 66.053125 24.301875 \n\" style=\"fill:none;stroke:#000000;stroke-linecap:square;stroke-linejoin:miter;stroke-width:0.8;\"/>\n   </g>\n   <g id=\"patch_7\">\n    <path d=\"M 624.053125 459.181875 \nL 624.053125 24.301875 \n\" style=\"fill:none;stroke:#000000;stroke-linecap:square;stroke-linejoin:miter;stroke-width:0.8;\"/>\n   </g>\n   <g id=\"patch_8\">\n    <path d=\"M 66.053125 459.181875 \nL 624.053125 459.181875 \n\" style=\"fill:none;stroke:#000000;stroke-linecap:square;stroke-linejoin:miter;stroke-width:0.8;\"/>\n   </g>\n   <g id=\"patch_9\">\n    <path d=\"M 66.053125 24.301875 \nL 624.053125 24.301875 \n\" style=\"fill:none;stroke:#000000;stroke-linecap:square;stroke-linejoin:miter;stroke-width:0.8;\"/>\n   </g>\n   <g id=\"text_11\">\n    <!-- Óbitos por PNEUMONIA -->\n    <g transform=\"translate(275.392188 18.301875)scale(0.12 -0.12)\">\n     <defs>\n      <path d=\"M 2522 4238 \nQ 1834 4238 1429 3725 \nQ 1025 3213 1025 2328 \nQ 1025 1447 1429 934 \nQ 1834 422 2522 422 \nQ 3209 422 3611 934 \nQ 4013 1447 4013 2328 \nQ 4013 3213 3611 3725 \nQ 3209 4238 2522 4238 \nz\nM 2522 4750 \nQ 3503 4750 4090 4092 \nQ 4678 3434 4678 2328 \nQ 4678 1225 4090 567 \nQ 3503 -91 2522 -91 \nQ 1538 -91 948 565 \nQ 359 1222 359 2328 \nQ 359 3434 948 4092 \nQ 1538 4750 2522 4750 \nz\nM 2692 5921 \nL 3270 5921 \nL 2558 5096 \nL 2079 5096 \nL 2692 5921 \nz\n\" id=\"DejaVuSans-d3\" transform=\"scale(0.015625)\"/>\n      <path d=\"M 3116 1747 \nQ 3116 2381 2855 2742 \nQ 2594 3103 2138 3103 \nQ 1681 3103 1420 2742 \nQ 1159 2381 1159 1747 \nQ 1159 1113 1420 752 \nQ 1681 391 2138 391 \nQ 2594 391 2855 752 \nQ 3116 1113 3116 1747 \nz\nM 1159 2969 \nQ 1341 3281 1617 3432 \nQ 1894 3584 2278 3584 \nQ 2916 3584 3314 3078 \nQ 3713 2572 3713 1747 \nQ 3713 922 3314 415 \nQ 2916 -91 2278 -91 \nQ 1894 -91 1617 61 \nQ 1341 213 1159 525 \nL 1159 0 \nL 581 0 \nL 581 4863 \nL 1159 4863 \nL 1159 2969 \nz\n\" id=\"DejaVuSans-62\" transform=\"scale(0.015625)\"/>\n      <path d=\"M 603 3500 \nL 1178 3500 \nL 1178 0 \nL 603 0 \nL 603 3500 \nz\nM 603 4863 \nL 1178 4863 \nL 1178 4134 \nL 603 4134 \nL 603 4863 \nz\n\" id=\"DejaVuSans-69\" transform=\"scale(0.015625)\"/>\n      <path d=\"M 2834 3397 \nL 2834 2853 \nQ 2591 2978 2328 3040 \nQ 2066 3103 1784 3103 \nQ 1356 3103 1142 2972 \nQ 928 2841 928 2578 \nQ 928 2378 1081 2264 \nQ 1234 2150 1697 2047 \nL 1894 2003 \nQ 2506 1872 2764 1633 \nQ 3022 1394 3022 966 \nQ 3022 478 2636 193 \nQ 2250 -91 1575 -91 \nQ 1294 -91 989 -36 \nQ 684 19 347 128 \nL 347 722 \nQ 666 556 975 473 \nQ 1284 391 1588 391 \nQ 1994 391 2212 530 \nQ 2431 669 2431 922 \nQ 2431 1156 2273 1281 \nQ 2116 1406 1581 1522 \nL 1381 1569 \nQ 847 1681 609 1914 \nQ 372 2147 372 2553 \nQ 372 3047 722 3315 \nQ 1072 3584 1716 3584 \nQ 2034 3584 2315 3537 \nQ 2597 3491 2834 3397 \nz\n\" id=\"DejaVuSans-73\" transform=\"scale(0.015625)\"/>\n      <path id=\"DejaVuSans-20\" transform=\"scale(0.015625)\"/>\n      <path d=\"M 1159 525 \nL 1159 -1331 \nL 581 -1331 \nL 581 3500 \nL 1159 3500 \nL 1159 2969 \nQ 1341 3281 1617 3432 \nQ 1894 3584 2278 3584 \nQ 2916 3584 3314 3078 \nQ 3713 2572 3713 1747 \nQ 3713 922 3314 415 \nQ 2916 -91 2278 -91 \nQ 1894 -91 1617 61 \nQ 1341 213 1159 525 \nz\nM 3116 1747 \nQ 3116 2381 2855 2742 \nQ 2594 3103 2138 3103 \nQ 1681 3103 1420 2742 \nQ 1159 2381 1159 1747 \nQ 1159 1113 1420 752 \nQ 1681 391 2138 391 \nQ 2594 391 2855 752 \nQ 3116 1113 3116 1747 \nz\n\" id=\"DejaVuSans-70\" transform=\"scale(0.015625)\"/>\n      <path d=\"M 1259 4147 \nL 1259 2394 \nL 2053 2394 \nQ 2494 2394 2734 2622 \nQ 2975 2850 2975 3272 \nQ 2975 3691 2734 3919 \nQ 2494 4147 2053 4147 \nL 1259 4147 \nz\nM 628 4666 \nL 2053 4666 \nQ 2838 4666 3239 4311 \nQ 3641 3956 3641 3272 \nQ 3641 2581 3239 2228 \nQ 2838 1875 2053 1875 \nL 1259 1875 \nL 1259 0 \nL 628 0 \nL 628 4666 \nz\n\" id=\"DejaVuSans-50\" transform=\"scale(0.015625)\"/>\n      <path d=\"M 628 4666 \nL 1478 4666 \nL 3547 763 \nL 3547 4666 \nL 4159 4666 \nL 4159 0 \nL 3309 0 \nL 1241 3903 \nL 1241 0 \nL 628 0 \nL 628 4666 \nz\n\" id=\"DejaVuSans-4e\" transform=\"scale(0.015625)\"/>\n      <path d=\"M 628 4666 \nL 3578 4666 \nL 3578 4134 \nL 1259 4134 \nL 1259 2753 \nL 3481 2753 \nL 3481 2222 \nL 1259 2222 \nL 1259 531 \nL 3634 531 \nL 3634 0 \nL 628 0 \nL 628 4666 \nz\n\" id=\"DejaVuSans-45\" transform=\"scale(0.015625)\"/>\n      <path d=\"M 556 4666 \nL 1191 4666 \nL 1191 1831 \nQ 1191 1081 1462 751 \nQ 1734 422 2344 422 \nQ 2950 422 3222 751 \nQ 3494 1081 3494 1831 \nL 3494 4666 \nL 4128 4666 \nL 4128 1753 \nQ 4128 841 3676 375 \nQ 3225 -91 2344 -91 \nQ 1459 -91 1007 375 \nQ 556 841 556 1753 \nL 556 4666 \nz\n\" id=\"DejaVuSans-55\" transform=\"scale(0.015625)\"/>\n      <path d=\"M 628 4666 \nL 1569 4666 \nL 2759 1491 \nL 3956 4666 \nL 4897 4666 \nL 4897 0 \nL 4281 0 \nL 4281 4097 \nL 3078 897 \nL 2444 897 \nL 1241 4097 \nL 1241 0 \nL 628 0 \nL 628 4666 \nz\n\" id=\"DejaVuSans-4d\" transform=\"scale(0.015625)\"/>\n      <path d=\"M 2522 4238 \nQ 1834 4238 1429 3725 \nQ 1025 3213 1025 2328 \nQ 1025 1447 1429 934 \nQ 1834 422 2522 422 \nQ 3209 422 3611 934 \nQ 4013 1447 4013 2328 \nQ 4013 3213 3611 3725 \nQ 3209 4238 2522 4238 \nz\nM 2522 4750 \nQ 3503 4750 4090 4092 \nQ 4678 3434 4678 2328 \nQ 4678 1225 4090 567 \nQ 3503 -91 2522 -91 \nQ 1538 -91 948 565 \nQ 359 1222 359 2328 \nQ 359 3434 948 4092 \nQ 1538 4750 2522 4750 \nz\n\" id=\"DejaVuSans-4f\" transform=\"scale(0.015625)\"/>\n      <path d=\"M 628 4666 \nL 1259 4666 \nL 1259 0 \nL 628 0 \nL 628 4666 \nz\n\" id=\"DejaVuSans-49\" transform=\"scale(0.015625)\"/>\n      <path d=\"M 2188 4044 \nL 1331 1722 \nL 3047 1722 \nL 2188 4044 \nz\nM 1831 4666 \nL 2547 4666 \nL 4325 0 \nL 3669 0 \nL 3244 1197 \nL 1141 1197 \nL 716 0 \nL 50 0 \nL 1831 4666 \nz\n\" id=\"DejaVuSans-41\" transform=\"scale(0.015625)\"/>\n     </defs>\n     <use xlink:href=\"#DejaVuSans-d3\"/>\n     <use x=\"78.710938\" xlink:href=\"#DejaVuSans-62\"/>\n     <use x=\"142.1875\" xlink:href=\"#DejaVuSans-69\"/>\n     <use x=\"169.970703\" xlink:href=\"#DejaVuSans-74\"/>\n     <use x=\"209.179688\" xlink:href=\"#DejaVuSans-6f\"/>\n     <use x=\"270.361328\" xlink:href=\"#DejaVuSans-73\"/>\n     <use x=\"322.460938\" xlink:href=\"#DejaVuSans-20\"/>\n     <use x=\"354.248047\" xlink:href=\"#DejaVuSans-70\"/>\n     <use x=\"417.724609\" xlink:href=\"#DejaVuSans-6f\"/>\n     <use x=\"478.90625\" xlink:href=\"#DejaVuSans-72\"/>\n     <use x=\"520.019531\" xlink:href=\"#DejaVuSans-20\"/>\n     <use x=\"551.806641\" xlink:href=\"#DejaVuSans-50\"/>\n     <use x=\"612.109375\" xlink:href=\"#DejaVuSans-4e\"/>\n     <use x=\"686.914062\" xlink:href=\"#DejaVuSans-45\"/>\n     <use x=\"750.097656\" xlink:href=\"#DejaVuSans-55\"/>\n     <use x=\"823.291016\" xlink:href=\"#DejaVuSans-4d\"/>\n     <use x=\"909.570312\" xlink:href=\"#DejaVuSans-4f\"/>\n     <use x=\"988.28125\" xlink:href=\"#DejaVuSans-4e\"/>\n     <use x=\"1063.085938\" xlink:href=\"#DejaVuSans-49\"/>\n     <use x=\"1092.578125\" xlink:href=\"#DejaVuSans-41\"/>\n    </g>\n   </g>\n  </g>\n </g>\n <defs>\n  <clipPath id=\"p272449de50\">\n   <rect height=\"434.88\" width=\"558\" x=\"66.053125\" y=\"24.301875\"/>\n  </clipPath>\n </defs>\n</svg>\n",
      "image/png": "[encoded data removed]"
     },
     "metadata": {
      "needs_background": "light"
     }
    },
    {
     "output_type": "execute_result",
     "data": {
      "text/plain": [
       "    Total  Year\n",
       "0  227051  2019\n",
       "1  183394  2020\n",
       "2   35793  2021"
      ],
      "text/html": "<div>\n<style scoped>\n    .dataframe tbody tr th:only-of-type {\n        vertical-align: middle;\n    }\n\n    .dataframe tbody tr th {\n        vertical-align: top;\n    }\n\n    .dataframe thead th {\n        text-align: right;\n    }\n</style>\n<table border=\"1\" class=\"dataframe\">\n  <thead>\n    <tr style=\"text-align: right;\">\n      <th></th>\n      <th>Total</th>\n      <th>Year</th>\n    </tr>\n  </thead>\n  <tbody>\n    <tr>\n      <th>0</th>\n      <td>227051</td>\n      <td>2019</td>\n    </tr>\n    <tr>\n      <th>1</th>\n      <td>183394</td>\n      <td>2020</td>\n    </tr>\n    <tr>\n      <th>2</th>\n      <td>35793</td>\n      <td>2021</td>\n    </tr>\n  </tbody>\n</table>\n</div>"
     },
     "metadata": {},
     "execution_count": 74
    }
   ],
   "source": [
    "comparison_chart('PNEUMONIA')"
   ]
  },
  {
   "cell_type": "code",
   "execution_count": null,
   "metadata": {},
   "outputs": [],
   "source": []
  }
 ]
}